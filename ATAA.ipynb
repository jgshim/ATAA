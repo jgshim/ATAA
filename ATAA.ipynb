{
  "cells": [
    {
      "cell_type": "markdown",
      "metadata": {
        "id": "view-in-github",
        "colab_type": "text"
      },
      "source": [
        "<a href=\"https://colab.research.google.com/github/jgshim/ATAA/blob/main/ATAA.ipynb\" target=\"_parent\"><img src=\"https://colab.research.google.com/assets/colab-badge.svg\" alt=\"Open In Colab\"/></a>"
      ]
    },
    {
      "cell_type": "code",
      "source": [
        "from google.colab import drive\n",
        "drive.mount('/content/gdrive/')"
      ],
      "metadata": {
        "colab": {
          "base_uri": "https://localhost:8080/"
        },
        "id": "q14v-k9A_xSx",
        "outputId": "e115fae1-ab99-4bc3-8b16-312dbfd9ab1b"
      },
      "execution_count": null,
      "outputs": [
        {
          "output_type": "stream",
          "name": "stdout",
          "text": [
            "Mounted at /content/gdrive/\n"
          ]
        }
      ]
    },
    {
      "cell_type": "code",
      "execution_count": null,
      "metadata": {
        "id": "JM7hDSNClfoK"
      },
      "outputs": [],
      "source": [
        "import tensorflow as tf\n",
        "from tensorflow import keras\n",
        "\n",
        "import os\n",
        "import tempfile\n",
        "\n",
        "import matplotlib as mpl\n",
        "import matplotlib.pyplot as plt\n",
        "import numpy as np\n",
        "import pandas as pd\n",
        "import seaborn as sns\n",
        "\n",
        "import sklearn\n",
        "from sklearn.metrics import confusion_matrix\n",
        "from sklearn.model_selection import train_test_split\n",
        "from sklearn.preprocessing import StandardScaler"
      ]
    },
    {
      "cell_type": "code",
      "execution_count": null,
      "metadata": {
        "id": "c8o1FHzD-_y_"
      },
      "outputs": [],
      "source": [
        "mpl.rcParams['figure.figsize'] = (12, 10)\n",
        "colors = plt.rcParams['axes.prop_cycle'].by_key()['color']"
      ]
    },
    {
      "cell_type": "markdown",
      "metadata": {
        "id": "Z3iZVjziKHmX"
      },
      "source": [
        "## Data processing and exploration"
      ]
    },
    {
      "cell_type": "code",
      "execution_count": null,
      "metadata": {
        "id": "pR_SnbMArXr7"
      },
      "outputs": [],
      "source": [
        "# file = tf.keras.utils # Google Drive 연동으로 필요없을 수도...\n",
        "raw_df = pd.read_csv('gdrive/MyDrive/ATAA/data_df.csv')\n",
        "raw_df.head()"
      ]
    },
    {
      "cell_type": "code",
      "source": [
        "raw_df[raw_df.duplicated(subset=\"ID\")]"
      ],
      "metadata": {
        "id": "kKa0ugS9gCw6"
      },
      "execution_count": null,
      "outputs": []
    },
    {
      "cell_type": "code",
      "source": [
        "# We don't want the 'Unnamed: 0', 'ID', 'Ht', 'Wt' column.\n",
        "raw_df1 = raw_df.drop(['Unnamed: 0', 'ID', 'Ht', 'Wt'], axis=1)"
      ],
      "metadata": {
        "id": "LtoDMb7BCLrE"
      },
      "execution_count": null,
      "outputs": []
    },
    {
      "cell_type": "code",
      "source": [
        "raw_df1.shape"
      ],
      "metadata": {
        "id": "2N_C7KaYEcer"
      },
      "execution_count": null,
      "outputs": []
    },
    {
      "cell_type": "code",
      "source": [
        "print(raw_df1.info())"
      ],
      "metadata": {
        "id": "Joe_IftjgC5l"
      },
      "execution_count": null,
      "outputs": []
    },
    {
      "cell_type": "code",
      "source": [
        "print((raw_df1.isnull().mean() * 100).to_string())"
      ],
      "metadata": {
        "id": "rFWPAaMFgDAA"
      },
      "execution_count": null,
      "outputs": []
    },
    {
      "cell_type": "code",
      "source": [
        "print(raw_df1.count())"
      ],
      "metadata": {
        "id": "6Tfo-ud5gDDs"
      },
      "execution_count": null,
      "outputs": []
    },
    {
      "cell_type": "code",
      "source": [
        "num_rows = raw_df1.shape[0]\n",
        "num_missing = num_rows - raw_df1.count()\n",
        "print(num_missing)"
      ],
      "metadata": {
        "id": "uaH4wlzqgDHy"
      },
      "execution_count": null,
      "outputs": []
    },
    {
      "cell_type": "code",
      "source": [
        "raw_df1.shape"
      ],
      "metadata": {
        "id": "hjix5UkcgDJv"
      },
      "execution_count": null,
      "outputs": []
    },
    {
      "cell_type": "code",
      "source": [
        "print(np.count_nonzero(raw_df1['Aneurysm'].isnull()))"
      ],
      "metadata": {
        "id": "6rcwbLGihfGs"
      },
      "execution_count": null,
      "outputs": []
    },
    {
      "cell_type": "code",
      "source": [
        "raw_df1.describe()  # 17개 변수 (16개 feature, 1개 label), samples 수 : 18382"
      ],
      "metadata": {
        "id": "6HcmLoqohfJv"
      },
      "execution_count": null,
      "outputs": []
    },
    {
      "cell_type": "code",
      "execution_count": null,
      "metadata": {
        "id": "-fgdQgmwUFuj"
      },
      "outputs": [],
      "source": [
        "raw_df1[['LDL','glc','Cr','CRP','Age','BSA','BMI','Waist','SBP','DBP','HR']].describe()"
      ]
    },
    {
      "cell_type": "markdown",
      "metadata": {
        "id": "xWKB_CVZFLpB"
      },
      "source": [
        "### Examine the class label imbalance\n",
        "\n",
        "Let's look at the dataset imbalance:"
      ]
    },
    {
      "cell_type": "code",
      "execution_count": null,
      "metadata": {
        "id": "HCJFrtuY2iLF"
      },
      "outputs": [],
      "source": [
        "neg, pos = np.bincount(raw_df1['Aneurysm'])\n",
        "total = neg + pos\n",
        "print('Examples:\\n    Total: {}\\n    Positive: {} ({:.2f}% of total)\\n'.format(\n",
        "    total, pos, 100 * pos / total))"
      ]
    },
    {
      "cell_type": "markdown",
      "metadata": {
        "id": "KnLKFQDsCBUg"
      },
      "source": [
        "This shows the small fraction of positive samples."
      ]
    },
    {
      "cell_type": "code",
      "execution_count": null,
      "metadata": {
        "id": "Ef42jTuxEjnj"
      },
      "outputs": [],
      "source": [
        "cleaned_df = raw_df1.copy()"
      ]
    },
    {
      "cell_type": "code",
      "source": [
        "data = cleaned_df.drop(['Aneurysm'], axis=1)\n",
        "target =cleaned_df['Aneurysm']"
      ],
      "metadata": {
        "id": "7uem0MkNI6pB"
      },
      "execution_count": null,
      "outputs": []
    },
    {
      "cell_type": "code",
      "source": [
        "# Use a utility from sklearn to split and shuffle your dataset.\n",
        "train_df, test_df, train_target, test_target = train_test_split(data, target, test_size=0.2, stratify=target, random_state=99)"
      ],
      "metadata": {
        "id": "eaFFgqk3kBK-"
      },
      "execution_count": null,
      "outputs": []
    },
    {
      "cell_type": "code",
      "source": [
        "print(train_df.info())"
      ],
      "metadata": {
        "id": "f6E41DUikZmd"
      },
      "execution_count": null,
      "outputs": []
    },
    {
      "cell_type": "markdown",
      "source": [
        "# Imputation and Standardization\n",
        "To handle the missing data, we obtaineed the mean value of continuous variables or the mode value of categorical variables from the training data set for each feature and used the missing data with the mean or mode value in both the training and testing data sets.\n",
        "We then performed standardization of the data set."
      ],
      "metadata": {
        "id": "x7ZVpbbomumF"
      }
    },
    {
      "cell_type": "code",
      "source": [
        "mean_LDL = round(train_df['LDL'].mean(axis=0))  # LDL 열의 평균 계산(NaN값 제외)\n",
        "print(mean_LDL)\n",
        "mean_glc = round(train_df['glc'].mean(axis=0))  # glc 열의 평균 계산(NaN값 제외)\n",
        "print(mean_glc)\n",
        "mean_Cr = round(train_df['Cr'].mean(axis=0))  # Cr 열의 평균 계산(NaN값 제외)\n",
        "print(mean_Cr)\n",
        "mean_CRP = round(train_df['CRP'].mean(axis=0))  # CRP 열의 평균 계산(NaN값 제외)\n",
        "print(mean_CRP)\n",
        "mean_Age = round(train_df['Age'].mean(axis=0))  # Age 열의 평균 계산(NaN값 제외)\n",
        "print(mean_Age)\n",
        "mean_BSA = round(train_df['BSA'].mean(axis=0))  # BSA 열의 평균 계산(NaN값 제외)\n",
        "print(mean_BSA)\n",
        "mean_BMI = round(train_df['BMI'].mean(axis=0))  # BMI 열의 평균 계산(NaN값 제외)\n",
        "print(mean_BMI)\n",
        "mean_Waist = round(train_df['Waist'].mean(axis=0))  # Waist 열의 평균 계산(NaN값 제외)\n",
        "print(mean_Waist)\n",
        "mean_SBP = round(train_df['SBP'].mean(axis=0))  # SBP 열의 평균 계산(NaN값 제외)\n",
        "print(mean_SBP)\n",
        "mean_DBP = round(train_df['DBP'].mean(axis=0))  # DBP 열의 평균 계산(NaN값 제외)\n",
        "print(mean_DBP)\n",
        "mean_HR = round(train_df['HR'].mean(axis=0))  # HR 열의 평균 계산(NaN값 제외)\n",
        "print(mean_HR)"
      ],
      "metadata": {
        "id": "utx5pt0kkTAd"
      },
      "execution_count": null,
      "outputs": []
    },
    {
      "cell_type": "code",
      "source": [
        "most_freq_Sex = train_df['Sex'].value_counts(dropna=False).idxmax()\n",
        "print(\"most_freq_Sex : \", most_freq_Sex)\n",
        "most_freq_DM = train_df['DM'].value_counts(dropna=False).idxmax()\n",
        "print(\"most_freq_DM : \", most_freq_DM)\n",
        "most_freq_HTN = train_df['HTN'].value_counts(dropna=False).idxmax()\n",
        "print(\"most_freq_HTN : \", most_freq_HTN)\n",
        "most_freq_DL = train_df['DL'].value_counts(dropna=False).idxmax()\n",
        "print(\"most_freq_DL : \", most_freq_DL)\n",
        "most_freq_Smoke = train_df['Smoke'].value_counts(dropna=False).idxmax()\n",
        "print(\"most_freq_Smoke : \", most_freq_Smoke)"
      ],
      "metadata": {
        "id": "Wdg5lr0mkTDM"
      },
      "execution_count": null,
      "outputs": []
    },
    {
      "cell_type": "code",
      "source": [
        "train_df['LDL'].fillna(mean_LDL, inplace=True)\n",
        "train_df['glc'].fillna(mean_glc, inplace=True)\n",
        "train_df['Cr'].fillna(mean_Cr, inplace=True)\n",
        "train_df['CRP'].fillna(mean_CRP, inplace=True)\n",
        "train_df['Age'].fillna(mean_Age, inplace=True)\n",
        "train_df['BSA'].fillna(mean_BSA, inplace=True)\n",
        "train_df['BMI'].fillna(mean_BMI, inplace=True)\n",
        "train_df['Waist'].fillna(mean_Waist, inplace=True)\n",
        "train_df['SBP'].fillna(mean_SBP, inplace=True)\n",
        "train_df['DBP'].fillna(mean_DBP, inplace=True)\n",
        "train_df['HR'].fillna(mean_HR, inplace=True)"
      ],
      "metadata": {
        "id": "UHp4xoqjkTG7"
      },
      "execution_count": null,
      "outputs": []
    },
    {
      "cell_type": "code",
      "source": [
        "test_df['LDL'].fillna(mean_LDL, inplace=True)\n",
        "test_df['glc'].fillna(mean_glc, inplace=True)\n",
        "test_df['Cr'].fillna(mean_Cr, inplace=True)\n",
        "test_df['CRP'].fillna(mean_CRP, inplace=True)\n",
        "test_df['Age'].fillna(mean_Age, inplace=True)\n",
        "test_df['BSA'].fillna(mean_BSA, inplace=True)\n",
        "test_df['BMI'].fillna(mean_BMI, inplace=True)\n",
        "test_df['Waist'].fillna(mean_Waist, inplace=True)\n",
        "test_df['SBP'].fillna(mean_SBP, inplace=True)\n",
        "test_df['DBP'].fillna(mean_DBP, inplace=True)\n",
        "test_df['HR'].fillna(mean_HR, inplace=True)"
      ],
      "metadata": {
        "id": "PdgQuzaokTJY"
      },
      "execution_count": null,
      "outputs": []
    },
    {
      "cell_type": "code",
      "source": [
        "train_df['Sex'].fillna(most_freq_Sex, inplace=True)\n",
        "train_df['DM'].fillna(most_freq_DM, inplace=True)\n",
        "train_df['HTN'].fillna(most_freq_HTN, inplace=True)\n",
        "train_df['DL'].fillna(most_freq_DL, inplace=True)\n",
        "train_df['Smoke'].fillna(most_freq_Smoke, inplace=True)"
      ],
      "metadata": {
        "id": "nGtg-eHRkTNI"
      },
      "execution_count": null,
      "outputs": []
    },
    {
      "cell_type": "code",
      "source": [
        "test_df['Sex'].fillna(most_freq_Sex, inplace=True)\n",
        "test_df['DM'].fillna(most_freq_DM, inplace=True)\n",
        "test_df['HTN'].fillna(most_freq_HTN, inplace=True)\n",
        "test_df['DL'].fillna(most_freq_DL, inplace=True)\n",
        "test_df['Smoke'].fillna(most_freq_Smoke, inplace=True)"
      ],
      "metadata": {
        "id": "NxJbkVbtkTPF"
      },
      "execution_count": null,
      "outputs": []
    },
    {
      "cell_type": "code",
      "source": [
        "train_df.head()"
      ],
      "metadata": {
        "id": "1BfWcLq7E_il"
      },
      "execution_count": null,
      "outputs": []
    },
    {
      "cell_type": "code",
      "source": [
        "train_df.to_csv(\"gdrive/MyDrive/ATAA/train_df.csv\", mode='w')\n",
        "test_df.to_csv(\"gdrive/MyDrive/ATAA/test_df.csv\", mode='w')\n",
        "train_target.to_csv(\"gdrive/MyDrive/ATAA/train_target.csv\", mode='w')\n",
        "test_target.to_csv(\"gdrive/MyDrive/ATAA/test_target.csv\", mode='w')"
      ],
      "metadata": {
        "id": "e_YAOsvdEeim"
      },
      "execution_count": null,
      "outputs": []
    },
    {
      "cell_type": "code",
      "execution_count": null,
      "metadata": {
        "id": "g4vELAnz64B3"
      },
      "outputs": [],
      "source": [
        "# Feature number choice\n",
        "train_df = train_df[[\"Age\",\"HTN\",\"Waist\",\"Cr\",\"Smoke\",\"BMI\",\"CRP\",\"SBP\",\"DL\",\"DBP\",\"BSA\",\"Sex\",\"HR\",\"LDL\",\"glc\"]]\n",
        "test_df = test_df[[\"Age\",\"HTN\",\"Waist\",\"Cr\",\"Smoke\",\"BMI\",\"CRP\",\"SBP\",\"DL\",\"DBP\",\"BSA\",\"Sex\",\"HR\",\"LDL\",\"glc\"]]"
      ]
    },
    {
      "cell_type": "code",
      "source": [
        "test_df.head(20)"
      ],
      "metadata": {
        "id": "r45c2vtCkTR1"
      },
      "execution_count": null,
      "outputs": []
    },
    {
      "cell_type": "code",
      "source": [
        "print((test_df.isnull().mean() * 100).to_string())"
      ],
      "metadata": {
        "id": "QyC1EvHhtaOW"
      },
      "execution_count": null,
      "outputs": []
    },
    {
      "cell_type": "code",
      "source": [
        "print((train_target.to_frame().isnull().mean() * 100).to_string())"
      ],
      "metadata": {
        "id": "GvBB7hz1t1O0"
      },
      "execution_count": null,
      "outputs": []
    },
    {
      "cell_type": "code",
      "source": [
        "print(train_target.value_counts(dropna=False))\n",
        "print(train_target.shape)"
      ],
      "metadata": {
        "id": "_VafqBrut98f"
      },
      "execution_count": null,
      "outputs": []
    },
    {
      "cell_type": "code",
      "execution_count": null,
      "metadata": {
        "id": "xfxhKg7Yr1-b"
      },
      "outputs": [],
      "source": [
        "train_df, val_df, train_target, val_target = train_test_split(train_df, train_target, test_size=0.25, stratify=train_target, random_state=99)\n",
        "\n",
        "# Form np arrays of labels and features.\n",
        "train_labels = np.array(train_target)\n",
        "bool_train_labels = train_labels != 0\n",
        "val_labels = np.array(val_target)\n",
        "test_labels = np.array(test_target)\n",
        "\n",
        "train_features = np.array(train_df)\n",
        "val_features = np.array(val_df)\n",
        "test_features = np.array(test_df)"
      ]
    },
    {
      "cell_type": "code",
      "execution_count": null,
      "metadata": {
        "id": "IO-qEUmJ5JQg"
      },
      "outputs": [],
      "source": [
        "scaler = StandardScaler()\n",
        "train_features = scaler.fit_transform(train_features)\n",
        "\n",
        "val_features = scaler.transform(val_features)\n",
        "test_features = scaler.transform(test_features)\n",
        "\n",
        "train_features = np.clip(train_features, -5, 5)\n",
        "val_features = np.clip(val_features, -5, 5)\n",
        "test_features = np.clip(test_features, -5, 5)\n",
        "\n",
        "\n",
        "print('Training labels shape:', train_labels.shape)\n",
        "print('Validation labels shape:', val_labels.shape)\n",
        "print('Test labels shape:', test_labels.shape)\n",
        "\n",
        "print('Training features shape:', train_features.shape)\n",
        "print('Validation features shape:', val_features.shape)\n",
        "print('Test features shape:', test_features.shape)\n"
      ]
    },
    {
      "cell_type": "markdown",
      "metadata": {
        "id": "qFK1u4JX16D8"
      },
      "source": [
        "## Define the model and metrics\n",
        "\n",
        "Define a function that creates a  5-layer DNN (deep neural network) with an input layer, 3 FC layers as hidden layers, dropout layers to reduce overfitting, and an output sigmoid layer that returns the probability of a ascending thoracic aorta aneurysm: "
      ]
    },
    {
      "cell_type": "code",
      "execution_count": null,
      "metadata": {
        "id": "3JQDzUqT3UYG"
      },
      "outputs": [],
      "source": [
        "METRICS = [\n",
        "      keras.metrics.TruePositives(name='tp'),\n",
        "      keras.metrics.FalsePositives(name='fp'),\n",
        "      keras.metrics.TrueNegatives(name='tn'),\n",
        "      keras.metrics.FalseNegatives(name='fn'), \n",
        "      keras.metrics.BinaryAccuracy(name='accuracy'),\n",
        "      keras.metrics.Precision(name='precision'),\n",
        "      keras.metrics.Recall(name='recall'),\n",
        "      keras.metrics.AUC(name='auc'),\n",
        "      keras.metrics.AUC(name='prc', curve='PR'), # precision-recall curve\n",
        "]\n",
        "\n",
        "def make_model(metrics=METRICS, output_bias=None):\n",
        "  if output_bias is not None:\n",
        "    output_bias = tf.keras.initializers.Constant(output_bias)\n",
        "  input = keras.layers.Input(shape=(train_features.shape[-1],), name='Input')\n",
        "  x = keras.layers.Dense(30, activation='relu', name='FC1')(input)\n",
        "  x = keras.layers.Dropout(0.5, name='DO1')(x)\n",
        "  x = keras.layers.Dense(16, activation='relu', name='FC2')(x)\n",
        "  x = keras.layers.Dropout(0.5, name='DO2')(x)\n",
        "  x = keras.layers.Dense(8, activation='relu', name='FC3')(x)\n",
        "  x = keras.layers.Dropout(0.5, name='DO3')(x)\n",
        "  output = keras.layers.Dense(1, activation='sigmoid', bias_initializer=output_bias, name='Output')(x)\n",
        "\n",
        "  model = keras.models.Model(inputs=input, outputs=output)\n",
        "  \n",
        "  model.compile(\n",
        "      optimizer=keras.optimizers.Adam(learning_rate=1e-3),\n",
        "      loss=keras.losses.BinaryCrossentropy(),\n",
        "      metrics=metrics)\n",
        "\n",
        "  return model"
      ]
    },
    {
      "cell_type": "markdown",
      "metadata": {
        "id": "FYdhSAoaF_TK"
      },
      "source": [
        "## Baseline model"
      ]
    },
    {
      "cell_type": "code",
      "execution_count": null,
      "metadata": {
        "id": "ouUkwPcGQsy3"
      },
      "outputs": [],
      "source": [
        "EPOCHS = 500\n",
        "BATCH_SIZE = 128\n",
        "\n",
        "earlyStopping = keras.callbacks.EarlyStopping(\n",
        "    monitor='val_prc',\n",
        "    mode='max',\n",
        "    verbose=1,\n",
        "    patience=30)"
      ]
    },
    {
      "cell_type": "code",
      "execution_count": null,
      "metadata": {
        "id": "1xlR_dekzw7C",
        "colab": {
          "base_uri": "https://localhost:8080/"
        },
        "outputId": "6d448992-8d01-4fe2-929f-0d1042a3691a"
      },
      "outputs": [
        {
          "output_type": "stream",
          "name": "stdout",
          "text": [
            "Model: \"model_12\"\n",
            "_________________________________________________________________\n",
            " Layer (type)                Output Shape              Param #   \n",
            "=================================================================\n",
            " Input (InputLayer)          [(None, 15)]              0         \n",
            "                                                                 \n",
            " FC1 (Dense)                 (None, 30)                480       \n",
            "                                                                 \n",
            " DO1 (Dropout)               (None, 30)                0         \n",
            "                                                                 \n",
            " FC2 (Dense)                 (None, 16)                496       \n",
            "                                                                 \n",
            " DO2 (Dropout)               (None, 16)                0         \n",
            "                                                                 \n",
            " FC3 (Dense)                 (None, 18)                306       \n",
            "                                                                 \n",
            " DO3 (Dropout)               (None, 18)                0         \n",
            "                                                                 \n",
            " Output (Dense)              (None, 1)                 19        \n",
            "                                                                 \n",
            "=================================================================\n",
            "Total params: 1,301\n",
            "Trainable params: 1,301\n",
            "Non-trainable params: 0\n",
            "_________________________________________________________________\n"
          ]
        }
      ],
      "source": [
        "model = make_model()\n",
        "model.summary()"
      ]
    },
    {
      "cell_type": "markdown",
      "metadata": {
        "id": "Wx7ND3_SqckO"
      },
      "source": [
        "Test run the model:"
      ]
    },
    {
      "cell_type": "code",
      "execution_count": null,
      "metadata": {
        "id": "LopSd-yQqO3a",
        "colab": {
          "base_uri": "https://localhost:8080/"
        },
        "outputId": "be3765b8-5ea4-4667-b10d-f5f0c5fe8ff7"
      },
      "outputs": [
        {
          "output_type": "execute_result",
          "data": {
            "text/plain": [
              "array([[0.861308  ],\n",
              "       [0.87822944],\n",
              "       [0.83107865],\n",
              "       [0.8518421 ],\n",
              "       [0.88769966],\n",
              "       [0.86598885],\n",
              "       [0.8729413 ],\n",
              "       [0.886042  ],\n",
              "       [0.8526174 ],\n",
              "       [0.877069  ]], dtype=float32)"
            ]
          },
          "metadata": {},
          "execution_count": 133
        }
      ],
      "source": [
        "model.predict(train_features[:10])"
      ]
    },
    {
      "cell_type": "code",
      "source": [
        "initial_weights = os.path.join(tempfile.mkdtemp(), 'initial_weights')\n",
        "model.save_weights(initial_weights)"
      ],
      "metadata": {
        "id": "Y459-niDpJXB"
      },
      "execution_count": null,
      "outputs": []
    },
    {
      "cell_type": "code",
      "execution_count": null,
      "metadata": {
        "id": "WTSkhT1jyGu6"
      },
      "outputs": [],
      "source": [
        "def plot_metrics(history):\n",
        "  metrics = ['loss', 'prc', 'precision', 'recall']\n",
        "  for n, metric in enumerate(metrics):\n",
        "    name = metric.replace(\"_\",\" \").capitalize()\n",
        "    plt.subplot(2,2,n+1)\n",
        "    plt.plot(history.epoch, history.history[metric], color=colors[0], label='Train')\n",
        "    plt.plot(history.epoch, history.history['val_'+metric],\n",
        "             color=colors[0], linestyle=\"--\", label='Val')\n",
        "    plt.xlabel('Epoch')\n",
        "    plt.ylabel(name)\n",
        "    if metric == 'loss':\n",
        "      plt.ylim([0, plt.ylim()[1]])\n",
        "    elif metric == 'auc':\n",
        "      plt.ylim([0.8,1])\n",
        "    else:\n",
        "      plt.ylim([0,1])\n",
        "\n",
        "    plt.legend();"
      ]
    },
    {
      "cell_type": "code",
      "execution_count": null,
      "metadata": {
        "id": "MVWBGfADwbWI"
      },
      "outputs": [],
      "source": [
        "def plot_cm(labels, predictions, p=0.5):\n",
        "  cm = confusion_matrix(labels, predictions > p)\n",
        "  plt.figure(figsize=(5,5))\n",
        "  sns.heatmap(cm, annot=True, fmt=\"d\")\n",
        "  plt.title('Confusion matrix @{:.2f}'.format(p))\n",
        "  plt.ylabel('Actual label')\n",
        "  plt.xlabel('Predicted label')\n",
        "\n",
        "  print('ATAA Detected (True Negatives): ', cm[0][0])\n",
        "  print('ATAA Incorrectly Detected (False Positives): ', cm[0][1])\n",
        "  print('ATAA Missed (False Negatives): ', cm[1][0])\n",
        "  print('ATAA Detected (True Positives): ', cm[1][1])\n",
        "  print('Total ATAA: ', np.sum(cm[1]))"
      ]
    },
    {
      "cell_type": "markdown",
      "source": [
        "## Synthetic Minority Oversampling Technique (SMOTE)"
      ],
      "metadata": {
        "id": "k9K-Lx-CuFOc"
      }
    },
    {
      "cell_type": "code",
      "source": [
        "from imblearn.over_sampling import SMOTE "
      ],
      "metadata": {
        "id": "syLHmTBzsbWJ"
      },
      "execution_count": null,
      "outputs": []
    },
    {
      "cell_type": "code",
      "source": [
        "sm = SMOTE(random_state=42)\n",
        "X_smote, y_smote = sm.fit_resample(train_features, train_labels)"
      ],
      "metadata": {
        "id": "QaVflkgbvaDM"
      },
      "execution_count": null,
      "outputs": []
    },
    {
      "cell_type": "markdown",
      "source": [
        "### Train on the resampled data using smote\n",
        "\n",
        "Now try training the model with the resampled data set.\n",
        "\n",
        "The data was balanced by smote algorithm."
      ],
      "metadata": {
        "id": "LsOD70L1vI9g"
      }
    },
    {
      "cell_type": "markdown",
      "source": [
        "Balancing the dataset by smote:"
      ],
      "metadata": {
        "id": "sROLCvBLuaYe"
      }
    },
    {
      "cell_type": "code",
      "source": [
        "smote_model = make_model()\n",
        "smote_model.load_weights(initial_weights)\n",
        "\n",
        "# Reset the bias to zero, since this dataset is balanced.\n",
        "output_layer = smote_model.layers[-1] \n",
        "output_layer.bias.assign([0])\n",
        "\n",
        "path = 'smote_best_model.h5'\n",
        "\n",
        "modelCheckpoint = keras.callbacks.ModelCheckpoint(\n",
        "    filepath=path,\n",
        "    monitor='val_loss',\n",
        "    save_best_only=True)\n",
        "\n",
        "# 복잡한 모델에서는 patience=10에서 30번까지로 설정\n",
        "\n",
        "smote_history = smote_model.fit(\n",
        "    X_smote,\n",
        "    y_smote,\n",
        "    # These are not real epochs\n",
        "    #steps_per_epoch=len(X_smote)/BATCH_SIZE,\n",
        "    steps_per_epoch = 160,\n",
        "    batch_size=BATCH_SIZE,\n",
        "    epochs=10*EPOCHS,\n",
        "    callbacks=[modelCheckpoint, earlyStopping],\n",
        "    validation_data=(val_features, val_labels)) "
      ],
      "metadata": {
        "id": "3bTzvjidukbe",
        "colab": {
          "base_uri": "https://localhost:8080/"
        },
        "outputId": "3fe620c4-f4f3-4cdb-828b-0b0f39113b6a"
      },
      "execution_count": null,
      "outputs": [
        {
          "output_type": "stream",
          "name": "stdout",
          "text": [
            "Epoch 1/5000\n",
            "160/160 [==============================] - 4s 12ms/step - loss: 0.7035 - tp: 5761.0000 - fp: 5328.0000 - tn: 8358.0000 - fn: 4710.0000 - accuracy: 0.5845 - precision: 0.5195 - recall: 0.5502 - auc: 0.6287 - prc: 0.5042 - val_loss: 0.5745 - val_tp: 155.0000 - val_fp: 979.0000 - val_tn: 2468.0000 - val_fn: 75.0000 - val_accuracy: 0.7134 - val_precision: 0.1367 - val_recall: 0.6739 - val_auc: 0.7664 - val_prc: 0.2126\n",
            "Epoch 2/5000\n",
            "160/160 [==============================] - 1s 7ms/step - loss: 0.6042 - tp: 7502.0000 - fp: 4096.0000 - tn: 6107.0000 - fn: 2719.0000 - accuracy: 0.6663 - precision: 0.6468 - recall: 0.7340 - auc: 0.7292 - prc: 0.7006 - val_loss: 0.4782 - val_tp: 164.0000 - val_fp: 1079.0000 - val_tn: 2368.0000 - val_fn: 66.0000 - val_accuracy: 0.6886 - val_precision: 0.1319 - val_recall: 0.7130 - val_auc: 0.7931 - val_prc: 0.2485\n",
            "Epoch 3/5000\n",
            "160/160 [==============================] - 1s 7ms/step - loss: 0.5443 - tp: 8493.0000 - fp: 3663.0000 - tn: 6565.0000 - fn: 1703.0000 - accuracy: 0.7373 - precision: 0.6987 - recall: 0.8330 - auc: 0.8026 - prc: 0.7699 - val_loss: 0.4499 - val_tp: 164.0000 - val_fp: 991.0000 - val_tn: 2456.0000 - val_fn: 66.0000 - val_accuracy: 0.7125 - val_precision: 0.1420 - val_recall: 0.7130 - val_auc: 0.7978 - val_prc: 0.2588\n",
            "Epoch 4/5000\n",
            "160/160 [==============================] - 1s 7ms/step - loss: 0.5227 - tp: 8785.0000 - fp: 3590.0000 - tn: 6623.0000 - fn: 1426.0000 - accuracy: 0.7544 - precision: 0.7099 - recall: 0.8603 - auc: 0.8224 - prc: 0.7872 - val_loss: 0.4482 - val_tp: 164.0000 - val_fp: 967.0000 - val_tn: 2480.0000 - val_fn: 66.0000 - val_accuracy: 0.7191 - val_precision: 0.1450 - val_recall: 0.7130 - val_auc: 0.7992 - val_prc: 0.2650\n",
            "Epoch 5/5000\n",
            "160/160 [==============================] - 1s 7ms/step - loss: 0.5059 - tp: 8886.0000 - fp: 3461.0000 - tn: 6747.0000 - fn: 1330.0000 - accuracy: 0.7654 - precision: 0.7197 - recall: 0.8698 - auc: 0.8331 - prc: 0.8058 - val_loss: 0.4482 - val_tp: 162.0000 - val_fp: 914.0000 - val_tn: 2533.0000 - val_fn: 68.0000 - val_accuracy: 0.7329 - val_precision: 0.1506 - val_recall: 0.7043 - val_auc: 0.8005 - val_prc: 0.2680\n",
            "Epoch 6/5000\n",
            "160/160 [==============================] - 1s 7ms/step - loss: 0.4971 - tp: 8839.0000 - fp: 3315.0000 - tn: 6903.0000 - fn: 1367.0000 - accuracy: 0.7708 - precision: 0.7273 - recall: 0.8661 - auc: 0.8404 - prc: 0.8110 - val_loss: 0.4460 - val_tp: 161.0000 - val_fp: 895.0000 - val_tn: 2552.0000 - val_fn: 69.0000 - val_accuracy: 0.7378 - val_precision: 0.1525 - val_recall: 0.7000 - val_auc: 0.8020 - val_prc: 0.2719\n",
            "Epoch 7/5000\n",
            "160/160 [==============================] - 1s 7ms/step - loss: 0.4887 - tp: 8856.0000 - fp: 3233.0000 - tn: 7005.0000 - fn: 1330.0000 - accuracy: 0.7766 - precision: 0.7326 - recall: 0.8694 - auc: 0.8457 - prc: 0.8185 - val_loss: 0.4421 - val_tp: 161.0000 - val_fp: 884.0000 - val_tn: 2563.0000 - val_fn: 69.0000 - val_accuracy: 0.7408 - val_precision: 0.1541 - val_recall: 0.7000 - val_auc: 0.8027 - val_prc: 0.2745\n",
            "Epoch 8/5000\n",
            "160/160 [==============================] - 1s 7ms/step - loss: 0.4797 - tp: 8892.0000 - fp: 3141.0000 - tn: 7021.0000 - fn: 1370.0000 - accuracy: 0.7791 - precision: 0.7390 - recall: 0.8665 - auc: 0.8522 - prc: 0.8276 - val_loss: 0.4475 - val_tp: 160.0000 - val_fp: 867.0000 - val_tn: 2580.0000 - val_fn: 70.0000 - val_accuracy: 0.7452 - val_precision: 0.1558 - val_recall: 0.6957 - val_auc: 0.8019 - val_prc: 0.2747\n",
            "Epoch 9/5000\n",
            "160/160 [==============================] - 1s 7ms/step - loss: 0.4786 - tp: 8875.0000 - fp: 3113.0000 - tn: 7094.0000 - fn: 1342.0000 - accuracy: 0.7819 - precision: 0.7403 - recall: 0.8687 - auc: 0.8535 - prc: 0.8270 - val_loss: 0.4425 - val_tp: 157.0000 - val_fp: 813.0000 - val_tn: 2634.0000 - val_fn: 73.0000 - val_accuracy: 0.7590 - val_precision: 0.1619 - val_recall: 0.6826 - val_auc: 0.8015 - val_prc: 0.2738\n",
            "Epoch 10/5000\n",
            "160/160 [==============================] - 1s 7ms/step - loss: 0.4719 - tp: 8821.0000 - fp: 3046.0000 - tn: 7182.0000 - fn: 1375.0000 - accuracy: 0.7835 - precision: 0.7433 - recall: 0.8651 - auc: 0.8551 - prc: 0.8287 - val_loss: 0.4379 - val_tp: 156.0000 - val_fp: 819.0000 - val_tn: 2628.0000 - val_fn: 74.0000 - val_accuracy: 0.7571 - val_precision: 0.1600 - val_recall: 0.6783 - val_auc: 0.8003 - val_prc: 0.2736\n",
            "Epoch 11/5000\n",
            "160/160 [==============================] - 1s 7ms/step - loss: 0.4673 - tp: 8979.0000 - fp: 3011.0000 - tn: 7161.0000 - fn: 1273.0000 - accuracy: 0.7902 - precision: 0.7489 - recall: 0.8758 - auc: 0.8591 - prc: 0.8320 - val_loss: 0.4315 - val_tp: 156.0000 - val_fp: 802.0000 - val_tn: 2645.0000 - val_fn: 74.0000 - val_accuracy: 0.7618 - val_precision: 0.1628 - val_recall: 0.6783 - val_auc: 0.7998 - val_prc: 0.2784\n",
            "Epoch 12/5000\n",
            "160/160 [==============================] - 1s 7ms/step - loss: 0.4714 - tp: 8851.0000 - fp: 3004.0000 - tn: 7224.0000 - fn: 1345.0000 - accuracy: 0.7871 - precision: 0.7466 - recall: 0.8681 - auc: 0.8581 - prc: 0.8311 - val_loss: 0.4403 - val_tp: 152.0000 - val_fp: 808.0000 - val_tn: 2639.0000 - val_fn: 78.0000 - val_accuracy: 0.7590 - val_precision: 0.1583 - val_recall: 0.6609 - val_auc: 0.7983 - val_prc: 0.2773\n",
            "Epoch 13/5000\n",
            "160/160 [==============================] - 1s 7ms/step - loss: 0.4575 - tp: 8828.0000 - fp: 2835.0000 - tn: 7411.0000 - fn: 1350.0000 - accuracy: 0.7951 - precision: 0.7569 - recall: 0.8674 - auc: 0.8660 - prc: 0.8382 - val_loss: 0.4471 - val_tp: 155.0000 - val_fp: 802.0000 - val_tn: 2645.0000 - val_fn: 75.0000 - val_accuracy: 0.7615 - val_precision: 0.1620 - val_recall: 0.6739 - val_auc: 0.7985 - val_prc: 0.2795\n",
            "Epoch 14/5000\n",
            "160/160 [==============================] - 1s 7ms/step - loss: 0.4554 - tp: 8823.0000 - fp: 2801.0000 - tn: 7395.0000 - fn: 1405.0000 - accuracy: 0.7941 - precision: 0.7590 - recall: 0.8626 - auc: 0.8682 - prc: 0.8458 - val_loss: 0.4493 - val_tp: 151.0000 - val_fp: 777.0000 - val_tn: 2670.0000 - val_fn: 79.0000 - val_accuracy: 0.7672 - val_precision: 0.1627 - val_recall: 0.6565 - val_auc: 0.7968 - val_prc: 0.2740\n",
            "Epoch 15/5000\n",
            "160/160 [==============================] - 1s 7ms/step - loss: 0.4611 - tp: 8806.0000 - fp: 2843.0000 - tn: 7378.0000 - fn: 1397.0000 - accuracy: 0.7924 - precision: 0.7559 - recall: 0.8631 - auc: 0.8642 - prc: 0.8388 - val_loss: 0.4554 - val_tp: 152.0000 - val_fp: 805.0000 - val_tn: 2642.0000 - val_fn: 78.0000 - val_accuracy: 0.7599 - val_precision: 0.1588 - val_recall: 0.6609 - val_auc: 0.7956 - val_prc: 0.2722\n",
            "Epoch 16/5000\n",
            "160/160 [==============================] - 1s 7ms/step - loss: 0.4512 - tp: 8919.0000 - fp: 2815.0000 - tn: 7336.0000 - fn: 1354.0000 - accuracy: 0.7959 - precision: 0.7601 - recall: 0.8682 - auc: 0.8687 - prc: 0.8443 - val_loss: 0.4395 - val_tp: 148.0000 - val_fp: 763.0000 - val_tn: 2684.0000 - val_fn: 82.0000 - val_accuracy: 0.7702 - val_precision: 0.1625 - val_recall: 0.6435 - val_auc: 0.7943 - val_prc: 0.2745\n",
            "Epoch 17/5000\n",
            "160/160 [==============================] - 1s 7ms/step - loss: 0.4537 - tp: 8826.0000 - fp: 2792.0000 - tn: 7427.0000 - fn: 1379.0000 - accuracy: 0.7958 - precision: 0.7597 - recall: 0.8649 - auc: 0.8686 - prc: 0.8470 - val_loss: 0.4457 - val_tp: 147.0000 - val_fp: 753.0000 - val_tn: 2694.0000 - val_fn: 83.0000 - val_accuracy: 0.7726 - val_precision: 0.1633 - val_recall: 0.6391 - val_auc: 0.7941 - val_prc: 0.2727\n",
            "Epoch 18/5000\n",
            "160/160 [==============================] - 1s 7ms/step - loss: 0.4512 - tp: 8796.0000 - fp: 2704.0000 - tn: 7509.0000 - fn: 1415.0000 - accuracy: 0.7983 - precision: 0.7649 - recall: 0.8614 - auc: 0.8702 - prc: 0.8474 - val_loss: 0.4568 - val_tp: 147.0000 - val_fp: 752.0000 - val_tn: 2695.0000 - val_fn: 83.0000 - val_accuracy: 0.7729 - val_precision: 0.1635 - val_recall: 0.6391 - val_auc: 0.7936 - val_prc: 0.2746\n",
            "Epoch 19/5000\n",
            "160/160 [==============================] - 1s 7ms/step - loss: 0.4437 - tp: 8632.0000 - fp: 2581.0000 - tn: 7759.0000 - fn: 1452.0000 - accuracy: 0.8025 - precision: 0.7698 - recall: 0.8560 - auc: 0.8749 - prc: 0.8448 - val_loss: 0.4429 - val_tp: 143.0000 - val_fp: 752.0000 - val_tn: 2695.0000 - val_fn: 87.0000 - val_accuracy: 0.7718 - val_precision: 0.1598 - val_recall: 0.6217 - val_auc: 0.7913 - val_prc: 0.2718\n",
            "Epoch 20/5000\n",
            "160/160 [==============================] - 1s 7ms/step - loss: 0.4509 - tp: 8922.0000 - fp: 2746.0000 - tn: 7386.0000 - fn: 1370.0000 - accuracy: 0.7985 - precision: 0.7647 - recall: 0.8669 - auc: 0.8692 - prc: 0.8446 - val_loss: 0.4507 - val_tp: 146.0000 - val_fp: 767.0000 - val_tn: 2680.0000 - val_fn: 84.0000 - val_accuracy: 0.7686 - val_precision: 0.1599 - val_recall: 0.6348 - val_auc: 0.7915 - val_prc: 0.2722\n",
            "Epoch 21/5000\n",
            "160/160 [==============================] - 1s 7ms/step - loss: 0.4444 - tp: 8782.0000 - fp: 2628.0000 - tn: 7569.0000 - fn: 1445.0000 - accuracy: 0.8006 - precision: 0.7697 - recall: 0.8587 - auc: 0.8741 - prc: 0.8520 - val_loss: 0.4309 - val_tp: 139.0000 - val_fp: 668.0000 - val_tn: 2779.0000 - val_fn: 91.0000 - val_accuracy: 0.7936 - val_precision: 0.1722 - val_recall: 0.6043 - val_auc: 0.7925 - val_prc: 0.2740\n",
            "Epoch 22/5000\n",
            "160/160 [==============================] - 1s 7ms/step - loss: 0.4441 - tp: 8722.0000 - fp: 2619.0000 - tn: 7625.0000 - fn: 1458.0000 - accuracy: 0.8004 - precision: 0.7691 - recall: 0.8568 - auc: 0.8728 - prc: 0.8485 - val_loss: 0.4467 - val_tp: 140.0000 - val_fp: 715.0000 - val_tn: 2732.0000 - val_fn: 90.0000 - val_accuracy: 0.7811 - val_precision: 0.1637 - val_recall: 0.6087 - val_auc: 0.7904 - val_prc: 0.2744\n",
            "Epoch 23/5000\n",
            "160/160 [==============================] - 1s 7ms/step - loss: 0.4434 - tp: 8784.0000 - fp: 2601.0000 - tn: 7616.0000 - fn: 1423.0000 - accuracy: 0.8030 - precision: 0.7715 - recall: 0.8606 - auc: 0.8749 - prc: 0.8494 - val_loss: 0.4281 - val_tp: 138.0000 - val_fp: 672.0000 - val_tn: 2775.0000 - val_fn: 92.0000 - val_accuracy: 0.7922 - val_precision: 0.1704 - val_recall: 0.6000 - val_auc: 0.7909 - val_prc: 0.2754\n",
            "Epoch 24/5000\n",
            "160/160 [==============================] - 1s 7ms/step - loss: 0.4366 - tp: 8800.0000 - fp: 2590.0000 - tn: 7619.0000 - fn: 1415.0000 - accuracy: 0.8039 - precision: 0.7726 - recall: 0.8615 - auc: 0.8770 - prc: 0.8547 - val_loss: 0.4564 - val_tp: 143.0000 - val_fp: 731.0000 - val_tn: 2716.0000 - val_fn: 87.0000 - val_accuracy: 0.7775 - val_precision: 0.1636 - val_recall: 0.6217 - val_auc: 0.7912 - val_prc: 0.2742\n",
            "Epoch 25/5000\n",
            "160/160 [==============================] - 1s 7ms/step - loss: 0.4420 - tp: 8828.0000 - fp: 2563.0000 - tn: 7618.0000 - fn: 1415.0000 - accuracy: 0.8052 - precision: 0.7750 - recall: 0.8619 - auc: 0.8770 - prc: 0.8520 - val_loss: 0.4422 - val_tp: 140.0000 - val_fp: 702.0000 - val_tn: 2745.0000 - val_fn: 90.0000 - val_accuracy: 0.7846 - val_precision: 0.1663 - val_recall: 0.6087 - val_auc: 0.7890 - val_prc: 0.2753\n",
            "Epoch 26/5000\n",
            "160/160 [==============================] - 1s 7ms/step - loss: 0.4437 - tp: 8726.0000 - fp: 2582.0000 - tn: 7654.0000 - fn: 1462.0000 - accuracy: 0.8020 - precision: 0.7717 - recall: 0.8565 - auc: 0.8743 - prc: 0.8485 - val_loss: 0.4464 - val_tp: 139.0000 - val_fp: 713.0000 - val_tn: 2734.0000 - val_fn: 91.0000 - val_accuracy: 0.7813 - val_precision: 0.1631 - val_recall: 0.6043 - val_auc: 0.7907 - val_prc: 0.2748\n",
            "Epoch 27/5000\n",
            "160/160 [==============================] - 1s 7ms/step - loss: 0.4370 - tp: 8755.0000 - fp: 2578.0000 - tn: 7640.0000 - fn: 1451.0000 - accuracy: 0.8027 - precision: 0.7725 - recall: 0.8578 - auc: 0.8766 - prc: 0.8537 - val_loss: 0.4330 - val_tp: 136.0000 - val_fp: 676.0000 - val_tn: 2771.0000 - val_fn: 94.0000 - val_accuracy: 0.7906 - val_precision: 0.1675 - val_recall: 0.5913 - val_auc: 0.7892 - val_prc: 0.2751\n",
            "Epoch 28/5000\n",
            "160/160 [==============================] - 1s 7ms/step - loss: 0.4362 - tp: 8791.0000 - fp: 2514.0000 - tn: 7723.0000 - fn: 1396.0000 - accuracy: 0.8086 - precision: 0.7776 - recall: 0.8630 - auc: 0.8795 - prc: 0.8566 - val_loss: 0.4379 - val_tp: 140.0000 - val_fp: 668.0000 - val_tn: 2779.0000 - val_fn: 90.0000 - val_accuracy: 0.7939 - val_precision: 0.1733 - val_recall: 0.6087 - val_auc: 0.7911 - val_prc: 0.2748\n",
            "Epoch 29/5000\n",
            "160/160 [==============================] - 1s 7ms/step - loss: 0.4373 - tp: 8740.0000 - fp: 2506.0000 - tn: 7711.0000 - fn: 1467.0000 - accuracy: 0.8055 - precision: 0.7772 - recall: 0.8563 - auc: 0.8785 - prc: 0.8531 - val_loss: 0.4344 - val_tp: 139.0000 - val_fp: 674.0000 - val_tn: 2773.0000 - val_fn: 91.0000 - val_accuracy: 0.7919 - val_precision: 0.1710 - val_recall: 0.6043 - val_auc: 0.7891 - val_prc: 0.2726\n",
            "Epoch 30/5000\n",
            "160/160 [==============================] - 1s 7ms/step - loss: 0.4362 - tp: 8785.0000 - fp: 2475.0000 - tn: 7664.0000 - fn: 1500.0000 - accuracy: 0.8054 - precision: 0.7802 - recall: 0.8542 - auc: 0.8797 - prc: 0.8595 - val_loss: 0.4406 - val_tp: 141.0000 - val_fp: 671.0000 - val_tn: 2776.0000 - val_fn: 89.0000 - val_accuracy: 0.7933 - val_precision: 0.1736 - val_recall: 0.6130 - val_auc: 0.7909 - val_prc: 0.2743\n",
            "Epoch 31/5000\n",
            "160/160 [==============================] - 1s 7ms/step - loss: 0.4362 - tp: 8720.0000 - fp: 2459.0000 - tn: 7780.0000 - fn: 1465.0000 - accuracy: 0.8079 - precision: 0.7800 - recall: 0.8562 - auc: 0.8787 - prc: 0.8568 - val_loss: 0.4492 - val_tp: 139.0000 - val_fp: 687.0000 - val_tn: 2760.0000 - val_fn: 91.0000 - val_accuracy: 0.7884 - val_precision: 0.1683 - val_recall: 0.6043 - val_auc: 0.7910 - val_prc: 0.2758\n",
            "Epoch 32/5000\n",
            "160/160 [==============================] - 1s 7ms/step - loss: 0.4312 - tp: 8753.0000 - fp: 2412.0000 - tn: 7828.0000 - fn: 1431.0000 - accuracy: 0.8118 - precision: 0.7840 - recall: 0.8595 - auc: 0.8829 - prc: 0.8593 - val_loss: 0.4514 - val_tp: 141.0000 - val_fp: 683.0000 - val_tn: 2764.0000 - val_fn: 89.0000 - val_accuracy: 0.7900 - val_precision: 0.1711 - val_recall: 0.6130 - val_auc: 0.7880 - val_prc: 0.2680\n",
            "Epoch 33/5000\n",
            "160/160 [==============================] - 1s 7ms/step - loss: 0.4365 - tp: 8610.0000 - fp: 2410.0000 - tn: 7861.0000 - fn: 1543.0000 - accuracy: 0.8065 - precision: 0.7813 - recall: 0.8480 - auc: 0.8801 - prc: 0.8547 - val_loss: 0.4377 - val_tp: 137.0000 - val_fp: 653.0000 - val_tn: 2794.0000 - val_fn: 93.0000 - val_accuracy: 0.7971 - val_precision: 0.1734 - val_recall: 0.5957 - val_auc: 0.7880 - val_prc: 0.2711\n",
            "Epoch 34/5000\n",
            "160/160 [==============================] - 1s 7ms/step - loss: 0.4281 - tp: 8824.0000 - fp: 2404.0000 - tn: 7710.0000 - fn: 1486.0000 - accuracy: 0.8095 - precision: 0.7859 - recall: 0.8559 - auc: 0.8826 - prc: 0.8637 - val_loss: 0.4422 - val_tp: 137.0000 - val_fp: 665.0000 - val_tn: 2782.0000 - val_fn: 93.0000 - val_accuracy: 0.7939 - val_precision: 0.1708 - val_recall: 0.5957 - val_auc: 0.7881 - val_prc: 0.2713\n",
            "Epoch 35/5000\n",
            "160/160 [==============================] - 1s 7ms/step - loss: 0.4366 - tp: 8680.0000 - fp: 2457.0000 - tn: 7801.0000 - fn: 1486.0000 - accuracy: 0.8069 - precision: 0.7794 - recall: 0.8538 - auc: 0.8786 - prc: 0.8532 - val_loss: 0.4434 - val_tp: 136.0000 - val_fp: 668.0000 - val_tn: 2779.0000 - val_fn: 94.0000 - val_accuracy: 0.7928 - val_precision: 0.1692 - val_recall: 0.5913 - val_auc: 0.7877 - val_prc: 0.2681\n",
            "Epoch 36/5000\n",
            "160/160 [==============================] - 1s 7ms/step - loss: 0.4308 - tp: 8811.0000 - fp: 2448.0000 - tn: 7704.0000 - fn: 1461.0000 - accuracy: 0.8086 - precision: 0.7826 - recall: 0.8578 - auc: 0.8814 - prc: 0.8599 - val_loss: 0.4392 - val_tp: 133.0000 - val_fp: 657.0000 - val_tn: 2790.0000 - val_fn: 97.0000 - val_accuracy: 0.7949 - val_precision: 0.1684 - val_recall: 0.5783 - val_auc: 0.7865 - val_prc: 0.2718\n",
            "Epoch 37/5000\n",
            "160/160 [==============================] - 1s 7ms/step - loss: 0.4278 - tp: 8632.0000 - fp: 2369.0000 - tn: 7945.0000 - fn: 1478.0000 - accuracy: 0.8116 - precision: 0.7847 - recall: 0.8538 - auc: 0.8828 - prc: 0.8570 - val_loss: 0.4355 - val_tp: 136.0000 - val_fp: 658.0000 - val_tn: 2789.0000 - val_fn: 94.0000 - val_accuracy: 0.7955 - val_precision: 0.1713 - val_recall: 0.5913 - val_auc: 0.7870 - val_prc: 0.2713\n",
            "Epoch 38/5000\n",
            "160/160 [==============================] - 1s 7ms/step - loss: 0.4289 - tp: 8805.0000 - fp: 2422.0000 - tn: 7732.0000 - fn: 1465.0000 - accuracy: 0.8097 - precision: 0.7843 - recall: 0.8574 - auc: 0.8821 - prc: 0.8598 - val_loss: 0.4308 - val_tp: 134.0000 - val_fp: 629.0000 - val_tn: 2818.0000 - val_fn: 96.0000 - val_accuracy: 0.8028 - val_precision: 0.1756 - val_recall: 0.5826 - val_auc: 0.7876 - val_prc: 0.2701\n",
            "Epoch 39/5000\n",
            "160/160 [==============================] - 1s 7ms/step - loss: 0.4286 - tp: 8775.0000 - fp: 2417.0000 - tn: 7776.0000 - fn: 1456.0000 - accuracy: 0.8104 - precision: 0.7840 - recall: 0.8577 - auc: 0.8818 - prc: 0.8580 - val_loss: 0.4378 - val_tp: 139.0000 - val_fp: 654.0000 - val_tn: 2793.0000 - val_fn: 91.0000 - val_accuracy: 0.7974 - val_precision: 0.1753 - val_recall: 0.6043 - val_auc: 0.7886 - val_prc: 0.2749\n",
            "Epoch 40/5000\n",
            "160/160 [==============================] - 1s 7ms/step - loss: 0.4320 - tp: 8762.0000 - fp: 2479.0000 - tn: 7731.0000 - fn: 1452.0000 - accuracy: 0.8075 - precision: 0.7795 - recall: 0.8578 - auc: 0.8803 - prc: 0.8583 - val_loss: 0.4214 - val_tp: 135.0000 - val_fp: 606.0000 - val_tn: 2841.0000 - val_fn: 95.0000 - val_accuracy: 0.8094 - val_precision: 0.1822 - val_recall: 0.5870 - val_auc: 0.7886 - val_prc: 0.2766\n",
            "Epoch 41/5000\n",
            "160/160 [==============================] - 1s 7ms/step - loss: 0.4270 - tp: 8666.0000 - fp: 2375.0000 - tn: 7874.0000 - fn: 1509.0000 - accuracy: 0.8098 - precision: 0.7849 - recall: 0.8517 - auc: 0.8841 - prc: 0.8618 - val_loss: 0.4250 - val_tp: 135.0000 - val_fp: 623.0000 - val_tn: 2824.0000 - val_fn: 95.0000 - val_accuracy: 0.8047 - val_precision: 0.1781 - val_recall: 0.5870 - val_auc: 0.7890 - val_prc: 0.2713\n",
            "Epoch 42/5000\n",
            "160/160 [==============================] - 1s 7ms/step - loss: 0.4276 - tp: 8813.0000 - fp: 2388.0000 - tn: 7813.0000 - fn: 1410.0000 - accuracy: 0.8140 - precision: 0.7868 - recall: 0.8621 - auc: 0.8834 - prc: 0.8621 - val_loss: 0.4258 - val_tp: 133.0000 - val_fp: 621.0000 - val_tn: 2826.0000 - val_fn: 97.0000 - val_accuracy: 0.8047 - val_precision: 0.1764 - val_recall: 0.5783 - val_auc: 0.7874 - val_prc: 0.2669\n",
            "Epoch 43/5000\n",
            "160/160 [==============================] - 1s 7ms/step - loss: 0.4280 - tp: 8789.0000 - fp: 2298.0000 - tn: 7847.0000 - fn: 1490.0000 - accuracy: 0.8145 - precision: 0.7927 - recall: 0.8550 - auc: 0.8847 - prc: 0.8643 - val_loss: 0.4486 - val_tp: 139.0000 - val_fp: 662.0000 - val_tn: 2785.0000 - val_fn: 91.0000 - val_accuracy: 0.7952 - val_precision: 0.1735 - val_recall: 0.6043 - val_auc: 0.7886 - val_prc: 0.2697\n",
            "Epoch 43: early stopping\n"
          ]
        }
      ]
    },
    {
      "cell_type": "code",
      "source": [
        "plt.plot(smote_history.history['loss'], label='Train loss')\n",
        "plt.plot(smote_history.history['val_loss'], label='Validation loss')\n",
        "plt.xlabel('Epochs')\n",
        "plt.ylabel('Loss')\n",
        "plt.legend()\n",
        "plt.show()"
      ],
      "metadata": {
        "id": "saUfGNoRwl5f",
        "colab": {
          "base_uri": "https://localhost:8080/",
          "height": 606
        },
        "outputId": "5833cefb-718d-44c0-9440-aec583c553df"
      },
      "execution_count": null,
      "outputs": [
        {
          "output_type": "display_data",
          "data": {
            "text/plain": [
              "<Figure size 864x720 with 1 Axes>"
            ],
            "image/png": "[encoded data removed]"
          },
          "metadata": {
            "needs_background": "light"
          }
        }
      ]
    },
    {
      "cell_type": "markdown",
      "source": [
        "### Re-train"
      ],
      "metadata": {
        "id": "X4vBvtjEw87b"
      }
    },
    {
      "cell_type": "code",
      "source": [
        "smote_model = make_model()\n",
        "smote_model.load_weights('smote_best_model.h5')"
      ],
      "metadata": {
        "id": "Jkk21Cwu3dlX"
      },
      "execution_count": null,
      "outputs": []
    },
    {
      "cell_type": "markdown",
      "metadata": {
        "id": "PxO6ZV0z1egj"
      },
      "source": [
        "### Evaluate metrics"
      ]
    },
    {
      "cell_type": "code",
      "source": [
        "train_predictions_smote = smote_model.predict(train_features, batch_size=BATCH_SIZE)\n",
        "test_predictions_smote = smote_model.predict(test_features, batch_size=BATCH_SIZE)"
      ],
      "metadata": {
        "id": "Je-ORqby1fiZ"
      },
      "execution_count": null,
      "outputs": []
    },
    {
      "cell_type": "code",
      "source": [
        "smote_results = smote_model.evaluate(test_features, test_labels,\n",
        "                                             batch_size=2*BATCH_SIZE, verbose=0)\n",
        "for name, value in zip(smote_model.metrics_names, smote_results):\n",
        "  print(name, ': ', value)\n",
        "print()\n",
        "\n",
        "plot_cm(test_labels, test_predictions_smote)"
      ],
      "metadata": {
        "id": "ucXAmsrx1nc3",
        "colab": {
          "base_uri": "https://localhost:8080/",
          "height": 648
        },
        "outputId": "4db2441e-bb6f-4121-fc91-5790c00684b0"
      },
      "execution_count": null,
      "outputs": [
        {
          "output_type": "stream",
          "name": "stdout",
          "text": [
            "loss :  0.41649118065834045\n",
            "tp :  159.0\n",
            "fp :  652.0\n",
            "tn :  2796.0\n",
            "fn :  70.0\n",
            "accuracy :  0.8036442995071411\n",
            "precision :  0.19605425000190735\n",
            "recall :  0.6943231225013733\n",
            "auc :  0.8351294994354248\n",
            "prc :  0.28980758786201477\n",
            "\n",
            "ATAA Detected (True Negatives):  2796\n",
            "ATAA Incorrectly Detected (False Positives):  652\n",
            "ATAA Missed (False Negatives):  70\n",
            "ATAA Detected (True Positives):  159\n",
            "Total ATAA:  229\n"
          ]
        },
        {
          "output_type": "display_data",
          "data": {
            "text/plain": [
              "<Figure size 360x360 with 2 Axes>"
            ],
            "image/png": "[encoded data removed]"
          },
          "metadata": {
            "needs_background": "light"
          }
        }
      ]
    },
    {
      "cell_type": "code",
      "source": [
        "train_prediction = pd.DataFrame(train_predictions_smote)\n",
        "train_prediction\n",
        "test_prediction = pd.DataFrame(test_predictions_smote)\n",
        "test_prediction"
      ],
      "metadata": {
        "colab": {
          "base_uri": "https://localhost:8080/",
          "height": 424
        },
        "id": "pHtMXpeYUtrH",
        "outputId": "ff6e8d2a-fc6c-4539-d7ce-079e16fdd625"
      },
      "execution_count": null,
      "outputs": [
        {
          "output_type": "execute_result",
          "data": {
            "text/plain": [
              "             0\n",
              "0     0.332399\n",
              "1     0.292454\n",
              "2     0.000965\n",
              "3     0.003072\n",
              "4     0.364755\n",
              "...        ...\n",
              "3672  0.000090\n",
              "3673  0.814240\n",
              "3674  0.002198\n",
              "3675  0.395746\n",
              "3676  0.421105\n",
              "\n",
              "[3677 rows x 1 columns]"
            ],
            "text/html": [
              "\n",
              "  <div id=\"df-38441a59-aec6-4f99-a075-c09ec04bcb3e\">\n",
              "    <div class=\"colab-df-container\">\n",
              "      <div>\n",
              "<style scoped>\n",
              "    .dataframe tbody tr th:only-of-type {\n",
              "        vertical-align: middle;\n",
              "    }\n",
              "\n",
              "    .dataframe tbody tr th {\n",
              "        vertical-align: top;\n",
              "    }\n",
              "\n",
              "    .dataframe thead th {\n",
              "        text-align: right;\n",
              "    }\n",
              "</style>\n",
              "<table border=\"1\" class=\"dataframe\">\n",
              "  <thead>\n",
              "    <tr style=\"text-align: right;\">\n",
              "      <th></th>\n",
              "      <th>0</th>\n",
              "    </tr>\n",
              "  </thead>\n",
              "  <tbody>\n",
              "    <tr>\n",
              "      <th>0</th>\n",
              "      <td>0.332399</td>\n",
              "    </tr>\n",
              "    <tr>\n",
              "      <th>1</th>\n",
              "      <td>0.292454</td>\n",
              "    </tr>\n",
              "    <tr>\n",
              "      <th>2</th>\n",
              "      <td>0.000965</td>\n",
              "    </tr>\n",
              "    <tr>\n",
              "      <th>3</th>\n",
              "      <td>0.003072</td>\n",
              "    </tr>\n",
              "    <tr>\n",
              "      <th>4</th>\n",
              "      <td>0.364755</td>\n",
              "    </tr>\n",
              "    <tr>\n",
              "      <th>...</th>\n",
              "      <td>...</td>\n",
              "    </tr>\n",
              "    <tr>\n",
              "      <th>3672</th>\n",
              "      <td>0.000090</td>\n",
              "    </tr>\n",
              "    <tr>\n",
              "      <th>3673</th>\n",
              "      <td>0.814240</td>\n",
              "    </tr>\n",
              "    <tr>\n",
              "      <th>3674</th>\n",
              "      <td>0.002198</td>\n",
              "    </tr>\n",
              "    <tr>\n",
              "      <th>3675</th>\n",
              "      <td>0.395746</td>\n",
              "    </tr>\n",
              "    <tr>\n",
              "      <th>3676</th>\n",
              "      <td>0.421105</td>\n",
              "    </tr>\n",
              "  </tbody>\n",
              "</table>\n",
              "<p>3677 rows × 1 columns</p>\n",
              "</div>\n",
              "      <button class=\"colab-df-convert\" onclick=\"convertToInteractive('df-38441a59-aec6-4f99-a075-c09ec04bcb3e')\"\n",
              "              title=\"Convert this dataframe to an interactive table.\"\n",
              "              style=\"display:none;\">\n",
              "        \n",
              "  <svg xmlns=\"http://www.w3.org/2000/svg\" height=\"24px\"viewBox=\"0 0 24 24\"\n",
              "       width=\"24px\">\n",
              "    <path d=\"M0 0h24v24H0V0z\" fill=\"none\"/>\n",
              "    <path d=\"M18.56 5.44l.94 2.06.94-2.06 2.06-.94-2.06-.94-.94-2.06-.94 2.06-2.06.94zm-11 1L8.5 8.5l.94-2.06 2.06-.94-2.06-.94L8.5 2.5l-.94 2.06-2.06.94zm10 10l.94 2.06.94-2.06 2.06-.94-2.06-.94-.94-2.06-.94 2.06-2.06.94z\"/><path d=\"M17.41 7.96l-1.37-1.37c-.4-.4-.92-.59-1.43-.59-.52 0-1.04.2-1.43.59L10.3 9.45l-7.72 7.72c-.78.78-.78 2.05 0 2.83L4 21.41c.39.39.9.59 1.41.59.51 0 1.02-.2 1.41-.59l7.78-7.78 2.81-2.81c.8-.78.8-2.07 0-2.86zM5.41 20L4 18.59l7.72-7.72 1.47 1.35L5.41 20z\"/>\n",
              "  </svg>\n",
              "      </button>\n",
              "      \n",
              "  <style>\n",
              "    .colab-df-container {\n",
              "      display:flex;\n",
              "      flex-wrap:wrap;\n",
              "      gap: 12px;\n",
              "    }\n",
              "\n",
              "    .colab-df-convert {\n",
              "      background-color: #E8F0FE;\n",
              "      border: none;\n",
              "      border-radius: 50%;\n",
              "      cursor: pointer;\n",
              "      display: none;\n",
              "      fill: #1967D2;\n",
              "      height: 32px;\n",
              "      padding: 0 0 0 0;\n",
              "      width: 32px;\n",
              "    }\n",
              "\n",
              "    .colab-df-convert:hover {\n",
              "      background-color: #E2EBFA;\n",
              "      box-shadow: 0px 1px 2px rgba(60, 64, 67, 0.3), 0px 1px 3px 1px rgba(60, 64, 67, 0.15);\n",
              "      fill: #174EA6;\n",
              "    }\n",
              "\n",
              "    [theme=dark] .colab-df-convert {\n",
              "      background-color: #3B4455;\n",
              "      fill: #D2E3FC;\n",
              "    }\n",
              "\n",
              "    [theme=dark] .colab-df-convert:hover {\n",
              "      background-color: #434B5C;\n",
              "      box-shadow: 0px 1px 3px 1px rgba(0, 0, 0, 0.15);\n",
              "      filter: drop-shadow(0px 1px 2px rgba(0, 0, 0, 0.3));\n",
              "      fill: #FFFFFF;\n",
              "    }\n",
              "  </style>\n",
              "\n",
              "      <script>\n",
              "        const buttonEl =\n",
              "          document.querySelector('#df-38441a59-aec6-4f99-a075-c09ec04bcb3e button.colab-df-convert');\n",
              "        buttonEl.style.display =\n",
              "          google.colab.kernel.accessAllowed ? 'block' : 'none';\n",
              "\n",
              "        async function convertToInteractive(key) {\n",
              "          const element = document.querySelector('#df-38441a59-aec6-4f99-a075-c09ec04bcb3e');\n",
              "          const dataTable =\n",
              "            await google.colab.kernel.invokeFunction('convertToInteractive',\n",
              "                                                     [key], {});\n",
              "          if (!dataTable) return;\n",
              "\n",
              "          const docLinkHtml = 'Like what you see? Visit the ' +\n",
              "            '<a target=\"_blank\" href=https://colab.research.google.com/notebooks/data_table.ipynb>data table notebook</a>'\n",
              "            + ' to learn more about interactive tables.';\n",
              "          element.innerHTML = '';\n",
              "          dataTable['output_type'] = 'display_data';\n",
              "          await google.colab.output.renderOutput(dataTable, element);\n",
              "          const docLink = document.createElement('div');\n",
              "          docLink.innerHTML = docLinkHtml;\n",
              "          element.appendChild(docLink);\n",
              "        }\n",
              "      </script>\n",
              "    </div>\n",
              "  </div>\n",
              "  "
            ]
          },
          "metadata": {},
          "execution_count": 360
        }
      ]
    },
    {
      "cell_type": "markdown",
      "metadata": {
        "id": "9l2cSVbO18ac"
      },
      "source": [
        "### Plot the ROC"
      ]
    },
    {
      "cell_type": "code",
      "source": [
        "plot_roc(\"Train\", train_labels, train_predictions_smote, color=colors[2])\n",
        "plot_roc(\"Test\", test_labels, test_predictions_smote, color=colors[1], linestyle='--')\n",
        "plt.legend(loc='lower right');\n",
        "plt.grid(False)\n",
        "\n",
        "plt.savefig('myfigure.pdf', transparent = True)"
      ],
      "metadata": {
        "colab": {
          "base_uri": "https://localhost:8080/",
          "height": 607
        },
        "id": "IazeGRGygGIn",
        "outputId": "62e34575-f775-4a78-c0b5-cc517d21d9bb"
      },
      "execution_count": null,
      "outputs": [
        {
          "output_type": "display_data",
          "data": {
            "text/plain": [
              "<Figure size 864x720 with 1 Axes>"
            ],
            "image/png": "[encoded data removed]"
          },
          "metadata": {
            "needs_background": "light"
          }
        }
      ]
    }
  ],
  "metadata": {
    "colab": {
      "collapsed_sections": [],
      "name": "ATAA.ipynb",
      "provenance": [],
      "include_colab_link": true
    },
    "kernelspec": {
      "display_name": "Python 3",
      "name": "python3"
    },
    "gpuClass": "standard"
  },
  "nbformat": 4,
  "nbformat_minor": 0
}